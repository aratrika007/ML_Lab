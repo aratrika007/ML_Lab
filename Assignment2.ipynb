{
  "nbformat": 4,
  "nbformat_minor": 0,
  "metadata": {
    "colab": {
      "provenance": [],
      "mount_file_id": "1rlUic0Y40D16pXgNUp0yB-66E6NBEKCs",
      "authorship_tag": "ABX9TyNpvDIQbIXbpGyaELklvB4Z",
      "include_colab_link": true
    },
    "kernelspec": {
      "name": "python3",
      "display_name": "Python 3"
    },
    "language_info": {
      "name": "python"
    }
  },
  "cells": [
    {
      "cell_type": "markdown",
      "metadata": {
        "id": "view-in-github",
        "colab_type": "text"
      },
      "source": [
        "<a href=\"https://colab.research.google.com/github/aratrika007/ML_Lab/blob/main/Assignment2.ipynb\" target=\"_parent\"><img src=\"https://colab.research.google.com/assets/colab-badge.svg\" alt=\"Open In Colab\"/></a>"
      ]
    },
    {
      "cell_type": "code",
      "execution_count": 1,
      "metadata": {
        "id": "Mfhog8IjhoAd"
      },
      "outputs": [],
      "source": [
        "import pandas as pd\n",
        "from sklearn.model_selection import train_test_split\n",
        "from sklearn.linear_model import LogisticRegression\n",
        "from sklearn.metrics import accuracy_score\n",
        "from sklearn.datasets import load_breast_cancer\n",
        "import matplotlib.pyplot as plt"
      ]
    },
    {
      "cell_type": "code",
      "source": [
        "data = load_breast_cancer()\n",
        "X = pd.DataFrame(data.data, columns=data.feature_names)\n",
        "y = pd.Series(data.target, name='target')\n",
        "\n",
        "# Split the dataset\n",
        "X_train, X_temp, y_train, y_temp = train_test_split(X, y, test_size=0.2, random_state=5)\n",
        "X_valid, X_test, y_valid, y_test = train_test_split(X_temp, y_temp, test_size=0.5, random_state=5)"
      ],
      "metadata": {
        "id": "psI3WTHIxJjq"
      },
      "execution_count": 2,
      "outputs": []
    },
    {
      "cell_type": "code",
      "source": [
        "solvers = ['newton-cg', 'lbfgs', 'liblinear']\n",
        "for solver in solvers:\n",
        "    model = LogisticRegression(solver=solver)\n",
        "    model.fit(X_train, y_train)\n",
        "    predictions = model.predict(X_valid)\n",
        "    accuracy = accuracy_score(y_valid, predictions)\n",
        "    print(f'Solver: {solver}, Accuracy: {accuracy}')"
      ],
      "metadata": {
        "id": "xH1J5EU-yAbx",
        "colab": {
          "base_uri": "https://localhost:8080/"
        },
        "outputId": "60519d18-a6a4-41bd-ef43-61e9aa90e5fd"
      },
      "execution_count": 3,
      "outputs": [
        {
          "output_type": "stream",
          "name": "stdout",
          "text": [
            "Solver: newton-cg, Accuracy: 0.9649122807017544\n",
            "Solver: lbfgs, Accuracy: 0.9649122807017544\n",
            "Solver: liblinear, Accuracy: 0.9649122807017544\n"
          ]
        },
        {
          "output_type": "stream",
          "name": "stderr",
          "text": [
            "/usr/local/lib/python3.10/dist-packages/sklearn/linear_model/_logistic.py:458: ConvergenceWarning: lbfgs failed to converge (status=1):\n",
            "STOP: TOTAL NO. of ITERATIONS REACHED LIMIT.\n",
            "\n",
            "Increase the number of iterations (max_iter) or scale the data as shown in:\n",
            "    https://scikit-learn.org/stable/modules/preprocessing.html\n",
            "Please also refer to the documentation for alternative solver options:\n",
            "    https://scikit-learn.org/stable/modules/linear_model.html#logistic-regression\n",
            "  n_iter_i = _check_optimize_result(\n"
          ]
        }
      ]
    },
    {
      "cell_type": "code",
      "source": [
        "penalties = ['l1', 'l2', 'none']\n",
        "\n",
        "# Using 'liblinear' solver for 'l1' and 'l2' penalties\n",
        "for penalty in penalties[:2]:\n",
        "    model = LogisticRegression(penalty=penalty, solver='liblinear')\n",
        "    model.fit(X_train, y_train)\n",
        "    coefficients = model.coef_\n",
        "    predictions = model.predict(X_valid)\n",
        "    accuracy = accuracy_score(y_valid, predictions)\n",
        "    print(f\"{'-'*40}\\nPenalty: {penalty}\\n\\nCoefficients: \\n{coefficients}\\n\\nAccuracy: {accuracy:.4f}\")\n",
        "\n",
        "# Using 'lbfgs' solver for 'none' penalty\n",
        "model = LogisticRegression(penalty='none', solver='lbfgs')\n",
        "model.fit(X_train, y_train)\n",
        "coefficients = model.coef_\n",
        "predictions = model.predict(X_valid)\n",
        "accuracy = accuracy_score(y_valid, predictions)\n",
        "print(f\"{'-'*40}\\nPenalty: none\\n\\nCoefficients: \\n{coefficients}\\n\\nAccuracy: {accuracy:.4f}\")"
      ],
      "metadata": {
        "colab": {
          "base_uri": "https://localhost:8080/"
        },
        "id": "zdUh2jzN3eWJ",
        "outputId": "02f0ccda-254d-4f6f-c22f-72a337f459e5"
      },
      "execution_count": 4,
      "outputs": [
        {
          "output_type": "stream",
          "name": "stdout",
          "text": [
            "----------------------------------------\n",
            "Penalty: l1\n",
            "\n",
            "Coefficients: \n",
            "[[ 2.64732334  0.08789701 -0.10234457 -0.00959566  0.          0.\n",
            "   0.          0.          0.          0.          0.          1.97710703\n",
            "   0.         -0.09798034  0.          0.          0.          0.\n",
            "   0.          0.          0.70326589 -0.38531797 -0.05272343 -0.02062646\n",
            "   0.          0.         -4.68604811  0.          0.          0.        ]]\n",
            "\n",
            "Accuracy: 0.9649\n",
            "----------------------------------------\n",
            "Penalty: l2\n",
            "\n",
            "Coefficients: \n",
            "[[ 1.89758500e+00  1.02466522e-01 -1.22282160e-01  1.81037301e-03\n",
            "  -1.15795041e-01 -3.36345080e-01 -5.50455360e-01 -2.84036578e-01\n",
            "  -1.56756060e-01 -1.46005945e-02  5.38919304e-02  1.48307240e+00\n",
            "   1.64548712e-01 -9.85279428e-02 -1.39717079e-02 -4.07326532e-03\n",
            "  -6.55970442e-02 -3.43255449e-02 -2.45649822e-02  3.81939507e-03\n",
            "   1.73110402e+00 -3.61820685e-01 -1.15483305e-01 -2.82036454e-02\n",
            "  -2.15185374e-01 -8.92214242e-01 -1.36498177e+00 -5.25828114e-01\n",
            "  -4.82613406e-01 -8.75521247e-02]]\n",
            "\n",
            "Accuracy: 0.9649\n",
            "----------------------------------------\n",
            "Penalty: none\n",
            "\n",
            "Coefficients: \n",
            "[[ 1.81904216e+00  5.66100206e-01 -1.19958047e-01  1.38874505e-03\n",
            "  -7.11959437e-02 -3.28244888e-01 -4.68392031e-01 -2.04480727e-01\n",
            "  -9.30819104e-02 -1.71892368e-02  9.90579093e-02  1.08647398e+00\n",
            "   3.98503957e-01 -1.53697759e-01 -6.88123103e-03 -6.62340421e-02\n",
            "  -9.99578135e-02 -2.61683460e-02 -1.97695743e-02 -5.79851992e-03\n",
            "   2.10951577e+00 -6.18978901e-01 -1.22272556e-01 -3.45167525e-02\n",
            "  -1.24224942e-01 -9.74062329e-01 -1.26334460e+00 -3.76746229e-01\n",
            "  -2.96260111e-01 -9.50263288e-02]]\n",
            "\n",
            "Accuracy: 0.9649\n"
          ]
        },
        {
          "output_type": "stream",
          "name": "stderr",
          "text": [
            "/usr/local/lib/python3.10/dist-packages/sklearn/svm/_base.py:1244: ConvergenceWarning: Liblinear failed to converge, increase the number of iterations.\n",
            "  warnings.warn(\n",
            "/usr/local/lib/python3.10/dist-packages/sklearn/linear_model/_logistic.py:1173: FutureWarning: `penalty='none'`has been deprecated in 1.2 and will be removed in 1.4. To keep the past behaviour, set `penalty=None`.\n",
            "  warnings.warn(\n",
            "/usr/local/lib/python3.10/dist-packages/sklearn/linear_model/_logistic.py:458: ConvergenceWarning: lbfgs failed to converge (status=1):\n",
            "STOP: TOTAL NO. of ITERATIONS REACHED LIMIT.\n",
            "\n",
            "Increase the number of iterations (max_iter) or scale the data as shown in:\n",
            "    https://scikit-learn.org/stable/modules/preprocessing.html\n",
            "Please also refer to the documentation for alternative solver options:\n",
            "    https://scikit-learn.org/stable/modules/linear_model.html#logistic-regression\n",
            "  n_iter_i = _check_optimize_result(\n"
          ]
        }
      ]
    },
    {
      "cell_type": "code",
      "source": [
        "l1_penalties = [0.1, 0.25, 0.75, 0.9]\n",
        "for penalty in l1_penalties:\n",
        "    model = LogisticRegression(penalty='l1', C=1/penalty, solver='liblinear')\n",
        "    model.fit(X_train, y_train)\n",
        "    coefficients = model.coef_\n",
        "    print(f\"{'-'*40}\\nL1 Penalty: {penalty}\\n\\nCoefficients:\\n {coefficients}\")"
      ],
      "metadata": {
        "colab": {
          "base_uri": "https://localhost:8080/"
        },
        "id": "jWZeN9cU3h--",
        "outputId": "61d40aef-65de-4e5c-9df3-834722696f31"
      },
      "execution_count": 5,
      "outputs": [
        {
          "output_type": "stream",
          "name": "stdout",
          "text": [
            "----------------------------------------\n",
            "L1 Penalty: 0.1\n",
            "\n",
            "Coefficients:\n",
            " [[ 1.16501730e+00  1.17805776e-01  5.06231079e-02 -1.59436901e-02\n",
            "   0.00000000e+00  0.00000000e+00 -4.49944242e+00  0.00000000e+00\n",
            "   0.00000000e+00  0.00000000e+00  0.00000000e+00  3.81190888e+00\n",
            "  -5.58623905e-01 -1.22668388e-01  0.00000000e+00  0.00000000e+00\n",
            "   0.00000000e+00  0.00000000e+00  0.00000000e+00  0.00000000e+00\n",
            "   1.44289456e-01 -5.89401357e-01  1.65911025e-01 -2.04391733e-02\n",
            "  -1.15755947e+01  6.12253920e-01 -5.79493414e+00 -3.17761864e+01\n",
            "  -7.19234359e+00  0.00000000e+00]]\n",
            "----------------------------------------\n",
            "L1 Penalty: 0.25\n",
            "\n",
            "Coefficients:\n",
            " [[  3.74477394   0.14888115  -0.22023274  -0.02174337   0.\n",
            "    0.           0.           0.           0.           0.\n",
            "    0.           3.50885611  -0.26118676  -0.12148387   0.\n",
            "    0.           0.           0.           0.           0.\n",
            "    0.          -0.54961079   0.11810944  -0.01770591   0.\n",
            "    0.          -6.72955575 -13.81188523  -3.9698174    0.        ]]\n",
            "----------------------------------------\n",
            "L1 Penalty: 0.75\n",
            "\n",
            "Coefficients:\n",
            " [[ 3.04514116  0.1186263  -0.15949084 -0.01154871  0.          0.\n",
            "   0.          0.          0.          0.          0.          2.43180101\n",
            "   0.         -0.10866506  0.          0.          0.          0.\n",
            "   0.          0.          0.51989516 -0.43779205 -0.01532609 -0.01970675\n",
            "   0.          0.         -5.70717808  0.          0.          0.        ]]\n"
          ]
        },
        {
          "output_type": "stream",
          "name": "stderr",
          "text": [
            "/usr/local/lib/python3.10/dist-packages/sklearn/svm/_base.py:1244: ConvergenceWarning: Liblinear failed to converge, increase the number of iterations.\n",
            "  warnings.warn(\n"
          ]
        },
        {
          "output_type": "stream",
          "name": "stdout",
          "text": [
            "----------------------------------------\n",
            "L1 Penalty: 0.9\n",
            "\n",
            "Coefficients:\n",
            " [[ 3.8582072   0.10083322 -0.24520813 -0.01322     0.          0.\n",
            "   0.          0.          0.          0.          0.          2.14834804\n",
            "   0.         -0.10024635  0.          0.          0.          0.\n",
            "   0.          0.          0.26825594 -0.40835846 -0.02300969 -0.01775695\n",
            "   0.          0.         -4.49969155  0.          0.          0.        ]]\n"
          ]
        },
        {
          "output_type": "stream",
          "name": "stderr",
          "text": [
            "/usr/local/lib/python3.10/dist-packages/sklearn/svm/_base.py:1244: ConvergenceWarning: Liblinear failed to converge, increase the number of iterations.\n",
            "  warnings.warn(\n"
          ]
        }
      ]
    },
    {
      "cell_type": "code",
      "source": [
        "from sklearn.model_selection import cross_val_score\n",
        "from sklearn.naive_bayes import GaussianNB\n",
        "\n",
        "nb_model = GaussianNB()\n",
        "scores = cross_val_score(nb_model, X_train, y_train, cv=5)\n",
        "\n",
        "average_accuracy = scores.mean()\n",
        "print(f'Average Naive Bayes Accuracy: {average_accuracy}')\n",
        "\n",
        "# Plot the bar graph\n",
        "plt.bar(range(1, 6), scores)\n",
        "plt.xlabel('Fold')\n",
        "plt.ylabel('Accuracy')\n",
        "plt.title('Naive Bayes 5-Fold Cross-Validation Accuracy')\n",
        "plt.show()\n"
      ],
      "metadata": {
        "colab": {
          "base_uri": "https://localhost:8080/",
          "height": 490
        },
        "id": "eHXP1Fur315H",
        "outputId": "3517a511-9599-40df-8abc-63f4d7550888"
      },
      "execution_count": 6,
      "outputs": [
        {
          "output_type": "stream",
          "name": "stdout",
          "text": [
            "Average Naive Bayes Accuracy: 0.9362637362637363\n"
          ]
        },
        {
          "output_type": "display_data",
          "data": {
            "text/plain": [
              "<Figure size 640x480 with 1 Axes>"
            ],
            "image/png": "[encoded data removed]"
          },
          "metadata": {}
        }
      ]
    }
  ]
}